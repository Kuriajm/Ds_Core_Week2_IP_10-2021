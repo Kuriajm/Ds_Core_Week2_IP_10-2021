{
  "nbformat": 4,
  "nbformat_minor": 0,
  "metadata": {
    "colab": {
      "name": "Ds_Core_Week2_Ip_Mutura_Kuria.ipynb",
      "provenance": [],
      "authorship_tag": "ABX9TyPPoTvsBI2/tekoirE9y3UJ",
      "include_colab_link": true
    },
    "kernelspec": {
      "name": "python3",
      "display_name": "Python 3"
    },
    "language_info": {
      "name": "python"
    }
  },
  "cells": [
    {
      "cell_type": "markdown",
      "metadata": {
        "id": "view-in-github",
        "colab_type": "text"
      },
      "source": [
        "<a href=\"https://colab.research.google.com/github/Kuriajm/Ds_Core_Week2_IP_10-2021/blob/main/Ds_Core_Week2_Ip_Mutura_Kuria.ipynb\" target=\"_parent\"><img src=\"https://colab.research.google.com/assets/colab-badge.svg\" alt=\"Open In Colab\"/></a>"
      ]
    },
    {
      "cell_type": "markdown",
      "metadata": {
        "id": "5RPAOKTdE_o7"
      },
      "source": [
        "# **1. Define the question, the metric for success, the context, experimental design taken and the appropriateness of the available data to answer the given question.**"
      ]
    },
    {
      "cell_type": "markdown",
      "metadata": {
        "id": "09iZ-ssTFHpD"
      },
      "source": [
        "### **Define the question**\n",
        "\n",
        "How we can predict which individuals are most likely to have or use a bank account in Kenya, Uganda, Rwanda and Tanzania?"
      ]
    },
    {
      "cell_type": "markdown",
      "metadata": {
        "id": "siaZgWX8Fy71"
      },
      "source": [
        "### **Metric of Success**\n",
        "\n",
        "A model that is able to predict individuals with the ability to have a bank account"
      ]
    },
    {
      "cell_type": "markdown",
      "metadata": {
        "id": "9-H_ofT8ImmE"
      },
      "source": [
        "### **The Context**\n",
        "\n",
        "Financial Inclusion remains one of the main obstacles to economic and human development in Africa. For example, across Kenya, Rwanda, Tanzania, and Uganda only 9.1 million adults (or 13.9% of the adult population) have access to or use a commercial bank account.\n",
        "\n",
        "Traditionally, access to bank accounts has been regarded as an indicator of financial inclusion. Despite the proliferation of mobile money in Africa and the growth of innovative fintech solutions, banks still play a pivotal role in facilitating access to financial services. Access to bank accounts enables households to save and facilitate payments while also helping businesses build up their credit-worthiness and improve their access to other financial services. Therefore, access to bank accounts is an essential contributor to long-term economic growth.\n",
        "\n",
        "The research problem is to figure out how we can predict which individuals are most likely to have or use a bank account. Your solution will help provide an indication of the state of financial inclusion in Kenya, Rwanda, Tanzania, and Uganda, while providing insights into some of the key demographic factors that might drive individuals’ financial outcomes."
      ]
    },
    {
      "cell_type": "markdown",
      "metadata": {
        "id": "tfH4JOw0s1Ek"
      },
      "source": [
        "### **The Experiment Design Taken**\n",
        "\n",
        "1. Define the question, the metric for success, the context, experimental design taken and the appropriateness of the available data to answer the given question.\n",
        "\n",
        "2. Find and deal with outliers, anomalies, and missing data within the dataset.\n",
        "Perform univariate, bivariate and multivariate analysis recording your observations.\n",
        "\n",
        "3. Implement the solution by performing the respective analysis i.e. factor analysis, principal component analysis, and discriminant analysis.\n",
        "\n",
        "4. Challenge your solution by providing insights on how you can make improvements."
      ]
    },
    {
      "cell_type": "markdown",
      "metadata": {
        "id": "c06SeM-VJ5sP"
      },
      "source": [
        "### **The appropriateness of the available data to answer the given question.**\n",
        "\n",
        "1. Importing the Libraries\n",
        "2. Loading the data\n",
        "3. Checking the data"
      ]
    },
    {
      "cell_type": "markdown",
      "metadata": {
        "id": "HU94BC8CLd1k"
      },
      "source": [
        "**Importing the Libraries**"
      ]
    },
    {
      "cell_type": "code",
      "metadata": {
        "id": "0UBU0vmjsMQY"
      },
      "source": [
        "\n",
        "#We import all the libraries needed\n",
        "import pandas as pd\n",
        "import numpy as np\n",
        "import matplotlib.pyplot as plt\n",
        "import seaborn as sns\n"
      ],
      "execution_count": 2,
      "outputs": []
    },
    {
      "cell_type": "markdown",
      "metadata": {
        "id": "iUNbvIvnT7ep"
      },
      "source": [
        "**Reading the Data**"
      ]
    },
    {
      "cell_type": "code",
      "metadata": {
        "id": "XJn2KjW-WMlG"
      },
      "source": [
        "# Loading the Data from the source i.e. csv\n",
        "# Dataset url = http://bit.ly/MedicalCitiesIncomeDataset\n",
        "#\n",
        "\n",
        "fin_df = pd.read_csv('http://bit.ly/FinancialDataset')"
      ],
      "execution_count": 3,
      "outputs": []
    },
    {
      "cell_type": "markdown",
      "metadata": {
        "id": "OI3P3YnHUEBk"
      },
      "source": [
        "**Checking the Data**"
      ]
    },
    {
      "cell_type": "code",
      "metadata": {
        "id": "YjSVNwgptHxY",
        "colab": {
          "base_uri": "https://localhost:8080/"
        },
        "outputId": "c4e14a8c-0ca8-42ef-9e19-6368b0dcb82b"
      },
      "source": [
        "# Determining the no. of records in our dataset\n",
        "#\n",
        "fin_df.shape"
      ],
      "execution_count": 4,
      "outputs": [
        {
          "output_type": "execute_result",
          "data": {
            "text/plain": [
              "(23524, 13)"
            ]
          },
          "metadata": {},
          "execution_count": 4
        }
      ]
    },
    {
      "cell_type": "code",
      "metadata": {
        "id": "xHhTw5eKWr0n",
        "colab": {
          "base_uri": "https://localhost:8080/",
          "height": 336
        },
        "outputId": "a7b6130d-ed75-47c0-dc84-a85b1dbdf385"
      },
      "source": [
        "# Previewing the top of our dataset\n",
        "#\n",
        "fin_df.head()"
      ],
      "execution_count": 5,
      "outputs": [
        {
          "output_type": "execute_result",
          "data": {
            "text/html": [
              "<div>\n",
              "<style scoped>\n",
              "    .dataframe tbody tr th:only-of-type {\n",
              "        vertical-align: middle;\n",
              "    }\n",
              "\n",
              "    .dataframe tbody tr th {\n",
              "        vertical-align: top;\n",
              "    }\n",
              "\n",
              "    .dataframe thead th {\n",
              "        text-align: right;\n",
              "    }\n",
              "</style>\n",
              "<table border=\"1\" class=\"dataframe\">\n",
              "  <thead>\n",
              "    <tr style=\"text-align: right;\">\n",
              "      <th></th>\n",
              "      <th>country</th>\n",
              "      <th>year</th>\n",
              "      <th>uniqueid</th>\n",
              "      <th>Has a Bank account</th>\n",
              "      <th>Type of Location</th>\n",
              "      <th>Cell Phone Access</th>\n",
              "      <th>household_size</th>\n",
              "      <th>Respondent Age</th>\n",
              "      <th>gender_of_respondent</th>\n",
              "      <th>The relathip with head</th>\n",
              "      <th>marital_status</th>\n",
              "      <th>Level of Educuation</th>\n",
              "      <th>Type of Job</th>\n",
              "    </tr>\n",
              "  </thead>\n",
              "  <tbody>\n",
              "    <tr>\n",
              "      <th>0</th>\n",
              "      <td>Kenya</td>\n",
              "      <td>2018</td>\n",
              "      <td>uniqueid_1</td>\n",
              "      <td>Yes</td>\n",
              "      <td>Rural</td>\n",
              "      <td>Yes</td>\n",
              "      <td>3.0</td>\n",
              "      <td>24.0</td>\n",
              "      <td>Female</td>\n",
              "      <td>Spouse</td>\n",
              "      <td>Married/Living together</td>\n",
              "      <td>Secondary education</td>\n",
              "      <td>Self employed</td>\n",
              "    </tr>\n",
              "    <tr>\n",
              "      <th>1</th>\n",
              "      <td>Kenya</td>\n",
              "      <td>2018</td>\n",
              "      <td>uniqueid_2</td>\n",
              "      <td>No</td>\n",
              "      <td>Rural</td>\n",
              "      <td>No</td>\n",
              "      <td>5.0</td>\n",
              "      <td>70.0</td>\n",
              "      <td>Female</td>\n",
              "      <td>Head of Household</td>\n",
              "      <td>Widowed</td>\n",
              "      <td>No formal education</td>\n",
              "      <td>Government Dependent</td>\n",
              "    </tr>\n",
              "    <tr>\n",
              "      <th>2</th>\n",
              "      <td>Kenya</td>\n",
              "      <td>2018</td>\n",
              "      <td>uniqueid_3</td>\n",
              "      <td>Yes</td>\n",
              "      <td>Urban</td>\n",
              "      <td>Yes</td>\n",
              "      <td>5.0</td>\n",
              "      <td>26.0</td>\n",
              "      <td>Male</td>\n",
              "      <td>Other relative</td>\n",
              "      <td>Single/Never Married</td>\n",
              "      <td>Vocational/Specialised training</td>\n",
              "      <td>Self employed</td>\n",
              "    </tr>\n",
              "    <tr>\n",
              "      <th>3</th>\n",
              "      <td>Kenya</td>\n",
              "      <td>2018</td>\n",
              "      <td>uniqueid_4</td>\n",
              "      <td>No</td>\n",
              "      <td>Rural</td>\n",
              "      <td>Yes</td>\n",
              "      <td>5.0</td>\n",
              "      <td>34.0</td>\n",
              "      <td>Female</td>\n",
              "      <td>Head of Household</td>\n",
              "      <td>Married/Living together</td>\n",
              "      <td>Primary education</td>\n",
              "      <td>Formally employed Private</td>\n",
              "    </tr>\n",
              "    <tr>\n",
              "      <th>4</th>\n",
              "      <td>Kenya</td>\n",
              "      <td>2018</td>\n",
              "      <td>uniqueid_5</td>\n",
              "      <td>No</td>\n",
              "      <td>Urban</td>\n",
              "      <td>No</td>\n",
              "      <td>8.0</td>\n",
              "      <td>26.0</td>\n",
              "      <td>Male</td>\n",
              "      <td>Child</td>\n",
              "      <td>Single/Never Married</td>\n",
              "      <td>Primary education</td>\n",
              "      <td>Informally employed</td>\n",
              "    </tr>\n",
              "  </tbody>\n",
              "</table>\n",
              "</div>"
            ],
            "text/plain": [
              "  country  year  ...              Level of Educuation                Type of Job\n",
              "0   Kenya  2018  ...              Secondary education              Self employed\n",
              "1   Kenya  2018  ...              No formal education       Government Dependent\n",
              "2   Kenya  2018  ...  Vocational/Specialised training              Self employed\n",
              "3   Kenya  2018  ...                Primary education  Formally employed Private\n",
              "4   Kenya  2018  ...                Primary education        Informally employed\n",
              "\n",
              "[5 rows x 13 columns]"
            ]
          },
          "metadata": {},
          "execution_count": 5
        }
      ]
    },
    {
      "cell_type": "code",
      "metadata": {
        "id": "e9AzGcZFrIIr",
        "colab": {
          "base_uri": "https://localhost:8080/",
          "height": 319
        },
        "outputId": "e06ff229-99c4-421c-bd62-fbab0f19a976"
      },
      "source": [
        "# Previewing the bottom of our dataset\n",
        "# \n",
        "fin_df.tail()"
      ],
      "execution_count": 6,
      "outputs": [
        {
          "output_type": "execute_result",
          "data": {
            "text/html": [
              "<div>\n",
              "<style scoped>\n",
              "    .dataframe tbody tr th:only-of-type {\n",
              "        vertical-align: middle;\n",
              "    }\n",
              "\n",
              "    .dataframe tbody tr th {\n",
              "        vertical-align: top;\n",
              "    }\n",
              "\n",
              "    .dataframe thead th {\n",
              "        text-align: right;\n",
              "    }\n",
              "</style>\n",
              "<table border=\"1\" class=\"dataframe\">\n",
              "  <thead>\n",
              "    <tr style=\"text-align: right;\">\n",
              "      <th></th>\n",
              "      <th>country</th>\n",
              "      <th>year</th>\n",
              "      <th>uniqueid</th>\n",
              "      <th>Has a Bank account</th>\n",
              "      <th>Type of Location</th>\n",
              "      <th>Cell Phone Access</th>\n",
              "      <th>household_size</th>\n",
              "      <th>Respondent Age</th>\n",
              "      <th>gender_of_respondent</th>\n",
              "      <th>The relathip with head</th>\n",
              "      <th>marital_status</th>\n",
              "      <th>Level of Educuation</th>\n",
              "      <th>Type of Job</th>\n",
              "    </tr>\n",
              "  </thead>\n",
              "  <tbody>\n",
              "    <tr>\n",
              "      <th>23519</th>\n",
              "      <td>Uganda</td>\n",
              "      <td>2018</td>\n",
              "      <td>uniqueid_2113</td>\n",
              "      <td>No</td>\n",
              "      <td>Rural</td>\n",
              "      <td>Yes</td>\n",
              "      <td>4.0</td>\n",
              "      <td>48.0</td>\n",
              "      <td>Female</td>\n",
              "      <td>Head of Household</td>\n",
              "      <td>Divorced/Seperated</td>\n",
              "      <td>No formal education</td>\n",
              "      <td>Other Income</td>\n",
              "    </tr>\n",
              "    <tr>\n",
              "      <th>23520</th>\n",
              "      <td>Uganda</td>\n",
              "      <td>2018</td>\n",
              "      <td>uniqueid_2114</td>\n",
              "      <td>No</td>\n",
              "      <td>Rural</td>\n",
              "      <td>Yes</td>\n",
              "      <td>2.0</td>\n",
              "      <td>27.0</td>\n",
              "      <td>Female</td>\n",
              "      <td>Head of Household</td>\n",
              "      <td>Single/Never Married</td>\n",
              "      <td>Secondary education</td>\n",
              "      <td>Other Income</td>\n",
              "    </tr>\n",
              "    <tr>\n",
              "      <th>23521</th>\n",
              "      <td>Uganda</td>\n",
              "      <td>2018</td>\n",
              "      <td>uniqueid_2115</td>\n",
              "      <td>No</td>\n",
              "      <td>Rural</td>\n",
              "      <td>Yes</td>\n",
              "      <td>5.0</td>\n",
              "      <td>27.0</td>\n",
              "      <td>Female</td>\n",
              "      <td>Parent</td>\n",
              "      <td>Widowed</td>\n",
              "      <td>Primary education</td>\n",
              "      <td>Other Income</td>\n",
              "    </tr>\n",
              "    <tr>\n",
              "      <th>23522</th>\n",
              "      <td>Uganda</td>\n",
              "      <td>2018</td>\n",
              "      <td>uniqueid_2116</td>\n",
              "      <td>No</td>\n",
              "      <td>Urban</td>\n",
              "      <td>Yes</td>\n",
              "      <td>7.0</td>\n",
              "      <td>30.0</td>\n",
              "      <td>Female</td>\n",
              "      <td>Parent</td>\n",
              "      <td>Divorced/Seperated</td>\n",
              "      <td>Secondary education</td>\n",
              "      <td>Self employed</td>\n",
              "    </tr>\n",
              "    <tr>\n",
              "      <th>23523</th>\n",
              "      <td>Uganda</td>\n",
              "      <td>2018</td>\n",
              "      <td>uniqueid_2117</td>\n",
              "      <td>No</td>\n",
              "      <td>Rural</td>\n",
              "      <td>Yes</td>\n",
              "      <td>10.0</td>\n",
              "      <td>20.0</td>\n",
              "      <td>Male</td>\n",
              "      <td>Child</td>\n",
              "      <td>Single/Never Married</td>\n",
              "      <td>Secondary education</td>\n",
              "      <td>No Income</td>\n",
              "    </tr>\n",
              "  </tbody>\n",
              "</table>\n",
              "</div>"
            ],
            "text/plain": [
              "      country  year  ...  Level of Educuation    Type of Job\n",
              "23519  Uganda  2018  ...  No formal education   Other Income\n",
              "23520  Uganda  2018  ...  Secondary education   Other Income\n",
              "23521  Uganda  2018  ...    Primary education   Other Income\n",
              "23522  Uganda  2018  ...  Secondary education  Self employed\n",
              "23523  Uganda  2018  ...  Secondary education      No Income\n",
              "\n",
              "[5 rows x 13 columns]"
            ]
          },
          "metadata": {},
          "execution_count": 6
        }
      ]
    },
    {
      "cell_type": "code",
      "metadata": {
        "id": "n8-dW4sQWzbc",
        "colab": {
          "base_uri": "https://localhost:8080/"
        },
        "outputId": "403cf916-4535-47ca-c1b9-58d10a799d50"
      },
      "source": [
        "# Checking whether each column has an appropriate datatype\n",
        "#\n",
        "fin_df.info()"
      ],
      "execution_count": 7,
      "outputs": [
        {
          "output_type": "stream",
          "name": "stdout",
          "text": [
            "<class 'pandas.core.frame.DataFrame'>\n",
            "RangeIndex: 23524 entries, 0 to 23523\n",
            "Data columns (total 13 columns):\n",
            " #   Column                  Non-Null Count  Dtype  \n",
            "---  ------                  --------------  -----  \n",
            " 0   country                 23510 non-null  object \n",
            " 1   year                    23524 non-null  int64  \n",
            " 2   uniqueid                23524 non-null  object \n",
            " 3   Has a Bank account      23488 non-null  object \n",
            " 4   Type of Location        23509 non-null  object \n",
            " 5   Cell Phone Access       23513 non-null  object \n",
            " 6   household_size          23496 non-null  float64\n",
            " 7   Respondent Age          23490 non-null  float64\n",
            " 8   gender_of_respondent    23490 non-null  object \n",
            " 9   The relathip with head  23520 non-null  object \n",
            " 10  marital_status          23492 non-null  object \n",
            " 11  Level of Educuation     23495 non-null  object \n",
            " 12  Type of Job             23494 non-null  object \n",
            "dtypes: float64(2), int64(1), object(10)\n",
            "memory usage: 2.3+ MB\n"
          ]
        }
      ]
    },
    {
      "cell_type": "markdown",
      "metadata": {
        "id": "vKqLI_MwOb6O"
      },
      "source": [
        "**Data approprietness report**\n",
        "\n",
        "1. The data has 13 columns and 23524 rows.\n",
        "2. The 13 columns have good data to enable us perform the analysis even though we will have to convert some of the data for PCA.\n",
        "\n",
        "Our data is appropriate to answer our question."
      ]
    },
    {
      "cell_type": "markdown",
      "metadata": {
        "id": "T2KRDquGYuM3"
      },
      "source": [
        "# 2. Cleaning the data \n",
        "\n",
        "Find and deal with outliers, anomalies, and missing data within the dataset."
      ]
    },
    {
      "cell_type": "code",
      "metadata": {
        "colab": {
          "base_uri": "https://localhost:8080/"
        },
        "id": "P_rvwl4CcguC",
        "outputId": "2c462ca8-c82e-4ca8-8ac4-e0d088977ed1"
      },
      "source": [
        "# Standardizing column names\n",
        "# Removing white spaces, lowering the case, replacing spaces with _, and removing brackets \n",
        "fin_df.columns = fin_df.columns.str.strip().str.lower().str.replace(' ', '_').str.replace('(', '').str.replace(')', '')\n",
        "\n",
        "# Renaming some column names\n",
        "fin_df.rename({'has_a_bank_account': 'bank_account', 'type_of_location': 'location', 'cell_phone_access' : 'phone', 'respondent_age':'age', 'gender_of_respondent':'gender', 'the_relathip_with_head' : 'relationship_with_head', 'level_of_educuation' : 'education_level'}, axis=1, inplace=True)\n",
        "\n",
        "# Dispalying the column names\n",
        "fin_df.columns"
      ],
      "execution_count": 8,
      "outputs": [
        {
          "output_type": "execute_result",
          "data": {
            "text/plain": [
              "Index(['country', 'year', 'uniqueid', 'bank_account', 'location', 'phone',\n",
              "       'household_size', 'age', 'gender', 'relationship_with_head',\n",
              "       'marital_status', 'education_level', 'type_of_job'],\n",
              "      dtype='object')"
            ]
          },
          "metadata": {},
          "execution_count": 8
        }
      ]
    },
    {
      "cell_type": "code",
      "metadata": {
        "id": "5o_bQcT5W3Wz",
        "colab": {
          "base_uri": "https://localhost:8080/",
          "height": 1000
        },
        "outputId": "9c3cb9a2-d12d-483d-b5e0-105003ee4b89"
      },
      "source": [
        "# Checking for Outliers\n",
        "#\n",
        "col_names = [ 'age', 'household_size']\n",
        "\n",
        "fig, ax = plt.subplots(len(col_names), figsize=(8,40))\n",
        "\n",
        "for i, col_val in enumerate(col_names):\n",
        "\n",
        "    sns.boxplot(y=fin_df[col_val], ax=ax[i])\n",
        "    ax[i].set_title('Box plot - {}'.format(col_val), fontsize=10)\n",
        "    ax[i].set_xlabel(col_val, fontsize=8)\n",
        "\n",
        "plt.show()"
      ],
      "execution_count": 9,
      "outputs": [
        {
          "output_type": "display_data",
          "data": {
            "image/png": "[encoded data removed]",
            "text/plain": [
              "<Figure size 576x2880 with 2 Axes>"
            ]
          },
          "metadata": {
            "needs_background": "light"
          }
        }
      ]
    },
    {
      "cell_type": "code",
      "metadata": {
        "id": "qc6Suu9fiESQ"
      },
      "source": [
        "#Dealing with the outliers\n",
        "# Removing outliers\n",
        "Q1 = fin_df.quantile(0.25)\n",
        "Q3 = fin_df.quantile(0.75)\n",
        "IQR = Q3 - Q1\n",
        "fin_df = fin_df[~((fin_df < (Q1 - 1.5 * IQR)) | (fin_df > (Q3 + 1.5 * IQR))).any(axis=1)]"
      ],
      "execution_count": 10,
      "outputs": []
    },
    {
      "cell_type": "code",
      "metadata": {
        "id": "PWlukLKUvFQN",
        "colab": {
          "base_uri": "https://localhost:8080/"
        },
        "outputId": "28712bd0-6deb-44fc-97f8-aaf351f2c6b9"
      },
      "source": [
        "# Checking for Anomalies\n",
        "#\n",
        "fin_df.nunique()"
      ],
      "execution_count": 11,
      "outputs": [
        {
          "output_type": "execute_result",
          "data": {
            "text/plain": [
              "country                      4\n",
              "year                         3\n",
              "uniqueid                  8692\n",
              "bank_account                 2\n",
              "location                     2\n",
              "phone                        2\n",
              "household_size              10\n",
              "age                         68\n",
              "gender                       2\n",
              "relationship_with_head       6\n",
              "marital_status               5\n",
              "education_level              7\n",
              "type_of_job                 10\n",
              "dtype: int64"
            ]
          },
          "metadata": {},
          "execution_count": 11
        }
      ]
    },
    {
      "cell_type": "code",
      "metadata": {
        "colab": {
          "base_uri": "https://localhost:8080/"
        },
        "id": "5YdcJdUXs3x7",
        "outputId": "825f97e9-0a60-4d25-f2fd-ded9a7e9172d"
      },
      "source": [
        "#Check anomalies in specific columns that has many entries\n",
        "#Household Size\n",
        "fin_df['household_size'].unique()\n",
        "\n"
      ],
      "execution_count": 12,
      "outputs": [
        {
          "output_type": "execute_result",
          "data": {
            "text/plain": [
              "array([ 3.,  5.,  8.,  7.,  1.,  6.,  4.,  2.,  9., nan,  0.])"
            ]
          },
          "metadata": {},
          "execution_count": 12
        }
      ]
    },
    {
      "cell_type": "markdown",
      "metadata": {
        "id": "2RUAlCkvuAh0"
      },
      "source": [
        "We got null values and 0 which are anomalies. We will deal with null values below, lets see how many 0 values we have"
      ]
    },
    {
      "cell_type": "code",
      "metadata": {
        "colab": {
          "base_uri": "https://localhost:8080/"
        },
        "id": "oZloT5RnuUiy",
        "outputId": "e778b2ec-8548-43ed-bcba-5a382361cc84"
      },
      "source": [
        "#Counting the 0 values\n",
        "fin_df[(fin_df['household_size']==0)].shape"
      ],
      "execution_count": 13,
      "outputs": [
        {
          "output_type": "execute_result",
          "data": {
            "text/plain": [
              "(27, 13)"
            ]
          },
          "metadata": {},
          "execution_count": 13
        }
      ]
    },
    {
      "cell_type": "markdown",
      "metadata": {
        "id": "U2a6Z_10ulG4"
      },
      "source": [
        "We have 27 records with 0 values"
      ]
    },
    {
      "cell_type": "code",
      "metadata": {
        "colab": {
          "base_uri": "https://localhost:8080/"
        },
        "id": "fVdjtZlLvHvx",
        "outputId": "825e7e07-5114-47ad-f9e1-e302bba7cb90"
      },
      "source": [
        "#Null values\n",
        "fin_df['household_size'].isnull().sum()"
      ],
      "execution_count": 14,
      "outputs": [
        {
          "output_type": "execute_result",
          "data": {
            "text/plain": [
              "27"
            ]
          },
          "metadata": {},
          "execution_count": 14
        }
      ]
    },
    {
      "cell_type": "markdown",
      "metadata": {
        "id": "VAnNbiY6vZto"
      },
      "source": [
        "27 null values\n",
        "\n",
        "Lets do away with the null values and 0 values"
      ]
    },
    {
      "cell_type": "code",
      "metadata": {
        "id": "IVs6T-Gkrqnr"
      },
      "source": [
        "## Dropping the entries with '0' 'household_size' \n",
        "fin_df.drop(fin_df.index[fin_df['household_size'] == 0], inplace = True)"
      ],
      "execution_count": 15,
      "outputs": []
    },
    {
      "cell_type": "code",
      "metadata": {
        "id": "PvCYb6dgW4yh",
        "colab": {
          "base_uri": "https://localhost:8080/"
        },
        "outputId": "e3100e00-8fdb-48eb-f144-8c9ddd56bac6"
      },
      "source": [
        "# Identifying the Missing Data\n",
        "#\n",
        "fin_df.isnull().sum()"
      ],
      "execution_count": 16,
      "outputs": [
        {
          "output_type": "execute_result",
          "data": {
            "text/plain": [
              "country                   14\n",
              "year                       0\n",
              "uniqueid                   0\n",
              "bank_account              36\n",
              "location                  15\n",
              "phone                     11\n",
              "household_size            27\n",
              "age                       33\n",
              "gender                    33\n",
              "relationship_with_head     4\n",
              "marital_status            31\n",
              "education_level           29\n",
              "type_of_job               30\n",
              "dtype: int64"
            ]
          },
          "metadata": {},
          "execution_count": 16
        }
      ]
    },
    {
      "cell_type": "code",
      "metadata": {
        "id": "MpsDGKZHsf_W",
        "colab": {
          "base_uri": "https://localhost:8080/"
        },
        "outputId": "61cfe13e-bcab-45b2-d267-bafbdc2a4fa2"
      },
      "source": [
        "# Dealing with the Missing Data\n",
        "#\n",
        "clean_df = fin_df.dropna()\n",
        "clean_df.isnull().sum()"
      ],
      "execution_count": 17,
      "outputs": [
        {
          "output_type": "execute_result",
          "data": {
            "text/plain": [
              "country                   0\n",
              "year                      0\n",
              "uniqueid                  0\n",
              "bank_account              0\n",
              "location                  0\n",
              "phone                     0\n",
              "household_size            0\n",
              "age                       0\n",
              "gender                    0\n",
              "relationship_with_head    0\n",
              "marital_status            0\n",
              "education_level           0\n",
              "type_of_job               0\n",
              "dtype: int64"
            ]
          },
          "metadata": {},
          "execution_count": 17
        }
      ]
    },
    {
      "cell_type": "code",
      "metadata": {
        "id": "D-4I__6Os4C5",
        "colab": {
          "base_uri": "https://localhost:8080/"
        },
        "outputId": "9f0d3c3e-82a5-4995-9837-d65cd2b2470a"
      },
      "source": [
        "clean_df.info()"
      ],
      "execution_count": 18,
      "outputs": [
        {
          "output_type": "stream",
          "name": "stdout",
          "text": [
            "<class 'pandas.core.frame.DataFrame'>\n",
            "Int64Index: 22698 entries, 0 to 23522\n",
            "Data columns (total 13 columns):\n",
            " #   Column                  Non-Null Count  Dtype  \n",
            "---  ------                  --------------  -----  \n",
            " 0   country                 22698 non-null  object \n",
            " 1   year                    22698 non-null  int64  \n",
            " 2   uniqueid                22698 non-null  object \n",
            " 3   bank_account            22698 non-null  object \n",
            " 4   location                22698 non-null  object \n",
            " 5   phone                   22698 non-null  object \n",
            " 6   household_size          22698 non-null  float64\n",
            " 7   age                     22698 non-null  float64\n",
            " 8   gender                  22698 non-null  object \n",
            " 9   relationship_with_head  22698 non-null  object \n",
            " 10  marital_status          22698 non-null  object \n",
            " 11  education_level         22698 non-null  object \n",
            " 12  type_of_job             22698 non-null  object \n",
            "dtypes: float64(2), int64(1), object(10)\n",
            "memory usage: 2.4+ MB\n"
          ]
        }
      ]
    },
    {
      "cell_type": "markdown",
      "metadata": {
        "id": "1j-P4AyxyQKY"
      },
      "source": [
        "Our Data looks clean now!"
      ]
    },
    {
      "cell_type": "markdown",
      "metadata": {
        "id": "Z0-yH0sE3Rm3"
      },
      "source": [
        "# **Perform univariate, bivariate and multivariate analysis recording your observations.**"
      ]
    },
    {
      "cell_type": "markdown",
      "metadata": {
        "id": "wdIgWJFE3nZf"
      },
      "source": [
        "**Univariate Analysis**"
      ]
    },
    {
      "cell_type": "markdown",
      "metadata": {
        "id": "KsoLTjja4rf2"
      },
      "source": [
        "Since most of our data is DESCRIPTIVE, we shall use Bar chats and pie chats for Univariate analysis"
      ]
    },
    {
      "cell_type": "code",
      "metadata": {
        "colab": {
          "base_uri": "https://localhost:8080/",
          "height": 349
        },
        "id": "4PDIM15g3t30",
        "outputId": "aa46d902-10d7-4a52-9784-413f3803b1c9"
      },
      "source": [
        "#A bar graph that shows the study's distribution across the countries\n",
        "\n",
        "(clean_df['country'].value_counts(normalize=True)).plot.bar()\n",
        "\n",
        "# labelling the bar chart \n",
        "plt.title('Study distribution across the countries', fontsize=15, y=1.015)\n",
        "# labelling the x axis \n",
        "plt.xlabel('Country', fontsize=14, labelpad=15)\n",
        "# labelling the y axis\n",
        "plt.ylabel('Percentage distribution of the study', fontsize=14, labelpad=15)\n",
        "#display bar chart\n",
        "plt.show()"
      ],
      "execution_count": 19,
      "outputs": [
        {
          "output_type": "display_data",
          "data": {
            "image/png": "[encoded data removed]",
            "text/plain": [
              "<Figure size 432x288 with 1 Axes>"
            ]
          },
          "metadata": {
            "needs_background": "light"
          }
        }
      ]
    },
    {
      "cell_type": "code",
      "metadata": {
        "colab": {
          "base_uri": "https://localhost:8080/"
        },
        "id": "S2R_sp7B6wol",
        "outputId": "030dde4a-9c7a-4331-fd67-f9daee9ae66b"
      },
      "source": [
        "clean_df['country'].value_counts(normalize=True)"
      ],
      "execution_count": 20,
      "outputs": [
        {
          "output_type": "execute_result",
          "data": {
            "text/plain": [
              "Rwanda      0.375011\n",
              "Tanzania    0.281831\n",
              "Kenya       0.258525\n",
              "Uganda      0.084633\n",
              "Name: country, dtype: float64"
            ]
          },
          "metadata": {},
          "execution_count": 20
        }
      ]
    },
    {
      "cell_type": "markdown",
      "metadata": {
        "id": "VD691weT7Xpm"
      },
      "source": [
        "From this: \n",
        "1. 37.5% were from Rwanda\n",
        "2. 28.2% were from Tanzania\n",
        "3. 25.9% were from Kenya\n",
        "4. 8.4% were from Uganda"
      ]
    },
    {
      "cell_type": "code",
      "metadata": {
        "colab": {
          "base_uri": "https://localhost:8080/",
          "height": 264
        },
        "id": "hYHOe3XD7MUY",
        "outputId": "bc7e3f5e-77fc-4eaa-e965-b70fd4d04063"
      },
      "source": [
        "#Pie chart showing percentages of those with Bank accounts across the study.\n",
        "\n",
        "#(clean_df['bank_account'].value_counts(normalize=True)).plot.pie()\n",
        "plt.pie(clean_df['bank_account'].value_counts(normalize=True), labels =clean_df['bank_account'].value_counts().index, autopct = '%1.1f%%', shadow = True,explode=(0.2,0), startangle = 140)\n",
        "plt.axis('equal')\n",
        "plt.title('Pie Chart of Percentage of people with Bank account')\n",
        "plt.show()"
      ],
      "execution_count": 21,
      "outputs": [
        {
          "output_type": "display_data",
          "data": {
            "image/png": "[encoded data removed]",
            "text/plain": [
              "<Figure size 432x288 with 1 Axes>"
            ]
          },
          "metadata": {}
        }
      ]
    },
    {
      "cell_type": "markdown",
      "metadata": {
        "id": "2DN5hu8BAqE_"
      },
      "source": [
        "Only 14.2 percent of people have bank account"
      ]
    },
    {
      "cell_type": "code",
      "metadata": {
        "colab": {
          "base_uri": "https://localhost:8080/",
          "height": 264
        },
        "id": "K30rLw038yBE",
        "outputId": "0d1e8b0f-9798-441a-a537-234b4aa45ed3"
      },
      "source": [
        "#Pie chart showing locations across the study.\n",
        "\n",
        "plt.pie(clean_df['location'].value_counts(normalize=True), labels =clean_df['location'].value_counts().index,colors = ['Green', 'Yellow'], autopct = '%1.1f%%', shadow = True,explode=(0.2,0), startangle = 140)\n",
        "plt.axis('equal')\n",
        "plt.title('Pie Chart of peoples location')\n",
        "plt.show()"
      ],
      "execution_count": 22,
      "outputs": [
        {
          "output_type": "display_data",
          "data": {
            "image/png": "[encoded data removed]",
            "text/plain": [
              "<Figure size 432x288 with 1 Axes>"
            ]
          },
          "metadata": {}
        }
      ]
    },
    {
      "cell_type": "markdown",
      "metadata": {
        "id": "WdW5fIdGCeAc"
      },
      "source": [
        "60.8% of the people are in Rural areas"
      ]
    },
    {
      "cell_type": "code",
      "metadata": {
        "colab": {
          "base_uri": "https://localhost:8080/",
          "height": 322
        },
        "id": "GDwK__ycC3JW",
        "outputId": "6bb42f45-c7dc-4388-e313-d8946464615c"
      },
      "source": [
        "#A bar graph that shows percentage of people with phones\n",
        "\n",
        "(clean_df['phone'].value_counts(normalize=True)).plot.bar()\n",
        "\n",
        "# labelling the bar chart \n",
        "plt.title('Phone ownership across the study', fontsize=15, y=1.015)\n",
        "# labelling the x axis \n",
        "plt.xlabel('Phone', fontsize=14, labelpad=15)\n",
        "# labelling the y axis\n",
        "plt.ylabel('Percentage distribution', fontsize=14, labelpad=15)\n",
        "#display bar chart\n",
        "plt.show()"
      ],
      "execution_count": 23,
      "outputs": [
        {
          "output_type": "display_data",
          "data": {
            "image/png": "[encoded data removed]",
            "text/plain": [
              "<Figure size 432x288 with 1 Axes>"
            ]
          },
          "metadata": {
            "needs_background": "light"
          }
        }
      ]
    },
    {
      "cell_type": "code",
      "metadata": {
        "colab": {
          "base_uri": "https://localhost:8080/"
        },
        "id": "l1MBDx0DDmgS",
        "outputId": "a37e4276-d7fc-4446-fcb6-b31958c53de8"
      },
      "source": [
        "clean_df['phone'].value_counts(normalize=True)"
      ],
      "execution_count": 24,
      "outputs": [
        {
          "output_type": "execute_result",
          "data": {
            "text/plain": [
              "Yes    0.747775\n",
              "No     0.252225\n",
              "Name: phone, dtype: float64"
            ]
          },
          "metadata": {},
          "execution_count": 24
        }
      ]
    },
    {
      "cell_type": "markdown",
      "metadata": {
        "id": "i_Plnw3VDqwC"
      },
      "source": [
        "74.8% have phones"
      ]
    },
    {
      "cell_type": "code",
      "metadata": {
        "colab": {
          "base_uri": "https://localhost:8080/",
          "height": 295
        },
        "id": "0caxYwMoDpUj",
        "outputId": "477aed1f-5409-4baf-e5df-d627609df9b6"
      },
      "source": [
        "#Household sizes\n",
        "plt.hist(clean_df['household_size'], bins=9, histtype='bar', rwidth=0.9)\n",
        "plt.xlabel('Household Number')\n",
        "plt.ylabel('Members of a household')\n",
        "plt.title('People in Households')\n",
        "plt.show()"
      ],
      "execution_count": 25,
      "outputs": [
        {
          "output_type": "display_data",
          "data": {
            "image/png": "[encoded data removed]",
            "text/plain": [
              "<Figure size 432x288 with 1 Axes>"
            ]
          },
          "metadata": {
            "needs_background": "light"
          }
        }
      ]
    },
    {
      "cell_type": "markdown",
      "metadata": {
        "id": "t-g0pnMVajlH"
      },
      "source": [
        "***Measures of central tendancy for Household size***"
      ]
    },
    {
      "cell_type": "code",
      "metadata": {
        "colab": {
          "base_uri": "https://localhost:8080/"
        },
        "id": "_675mdcfGGpc",
        "outputId": "6ba46daf-d298-4179-b422-062ca8c6e54c"
      },
      "source": [
        "#Mean number of people per household\n",
        "clean_df['household_size'].mean()\n",
        "\n"
      ],
      "execution_count": 26,
      "outputs": [
        {
          "output_type": "execute_result",
          "data": {
            "text/plain": [
              "3.5841043263723678"
            ]
          },
          "metadata": {},
          "execution_count": 26
        }
      ]
    },
    {
      "cell_type": "code",
      "metadata": {
        "colab": {
          "base_uri": "https://localhost:8080/"
        },
        "id": "TkTwW1FCVe8Q",
        "outputId": "fe25a39b-4d42-40fe-e923-d3b7a03c3320"
      },
      "source": [
        "#Mode number of people per houshold\n",
        "clean_df['household_size'].mode()"
      ],
      "execution_count": 27,
      "outputs": [
        {
          "output_type": "execute_result",
          "data": {
            "text/plain": [
              "0    2.0\n",
              "dtype: float64"
            ]
          },
          "metadata": {},
          "execution_count": 27
        }
      ]
    },
    {
      "cell_type": "code",
      "metadata": {
        "colab": {
          "base_uri": "https://localhost:8080/"
        },
        "id": "_taVtcDPW2Da",
        "outputId": "a280782c-5a2c-49b4-c4f3-98453f7eb342"
      },
      "source": [
        "#Median number of people per houshold\n",
        "clean_df['household_size'].median()"
      ],
      "execution_count": 28,
      "outputs": [
        {
          "output_type": "execute_result",
          "data": {
            "text/plain": [
              "3.0"
            ]
          },
          "metadata": {},
          "execution_count": 28
        }
      ]
    },
    {
      "cell_type": "markdown",
      "metadata": {
        "id": "W3NGx9_3bDr0"
      },
      "source": [
        "***Measures of dispersion for Household size***"
      ]
    },
    {
      "cell_type": "code",
      "metadata": {
        "colab": {
          "base_uri": "https://localhost:8080/"
        },
        "id": "ObLfgVKkbMeF",
        "outputId": "dff5c87d-3056-4817-d358-66b5219cea91"
      },
      "source": [
        "#range of Household size\n",
        "\n",
        "clean_df['household_size'].max()-clean_df['household_size'].min()"
      ],
      "execution_count": 29,
      "outputs": [
        {
          "output_type": "execute_result",
          "data": {
            "text/plain": [
              "8.0"
            ]
          },
          "metadata": {},
          "execution_count": 29
        }
      ]
    },
    {
      "cell_type": "code",
      "metadata": {
        "colab": {
          "base_uri": "https://localhost:8080/"
        },
        "id": "IaIDRjLOdm_O",
        "outputId": "1eb4dd77-7e6a-48c2-ad4c-ed563a1c8611"
      },
      "source": [
        "#Variance of the household size\n",
        "clean_df['household_size'].var()"
      ],
      "execution_count": 30,
      "outputs": [
        {
          "output_type": "execute_result",
          "data": {
            "text/plain": [
              "4.318541870773892"
            ]
          },
          "metadata": {},
          "execution_count": 30
        }
      ]
    },
    {
      "cell_type": "code",
      "metadata": {
        "colab": {
          "base_uri": "https://localhost:8080/"
        },
        "id": "CsX2NIpJdwcl",
        "outputId": "0d42c92b-5fde-45c9-f607-c9431deafbdb"
      },
      "source": [
        "#Standard deviation of the household size\n",
        "clean_df['household_size'].std()"
      ],
      "execution_count": 31,
      "outputs": [
        {
          "output_type": "execute_result",
          "data": {
            "text/plain": [
              "2.0781101681031955"
            ]
          },
          "metadata": {},
          "execution_count": 31
        }
      ]
    },
    {
      "cell_type": "code",
      "metadata": {
        "colab": {
          "base_uri": "https://localhost:8080/"
        },
        "id": "CLuex2nsbbIR",
        "outputId": "56a70329-afad-4480-8d1a-0bfefc99d72b"
      },
      "source": [
        "#Quatiles of the household size\n",
        "clean_df['household_size'].quantile([0.25,0.5,0.75])"
      ],
      "execution_count": 32,
      "outputs": [
        {
          "output_type": "execute_result",
          "data": {
            "text/plain": [
              "0.25    2.0\n",
              "0.50    3.0\n",
              "0.75    5.0\n",
              "Name: household_size, dtype: float64"
            ]
          },
          "metadata": {},
          "execution_count": 32
        }
      ]
    },
    {
      "cell_type": "code",
      "metadata": {
        "colab": {
          "base_uri": "https://localhost:8080/"
        },
        "id": "PCOrJlCgdO5-",
        "outputId": "b11022c9-bf71-4627-c5fc-6c054036c55b"
      },
      "source": [
        "#Skewness daviation of the household size\n",
        "\n",
        "clean_df['household_size'].skew()\n"
      ],
      "execution_count": 33,
      "outputs": [
        {
          "output_type": "execute_result",
          "data": {
            "text/plain": [
              "0.6086612029515418"
            ]
          },
          "metadata": {},
          "execution_count": 33
        }
      ]
    },
    {
      "cell_type": "code",
      "metadata": {
        "colab": {
          "base_uri": "https://localhost:8080/"
        },
        "id": "KC5MpBaVeE0K",
        "outputId": "6afa1418-7a81-4269-e8b6-64694d333460"
      },
      "source": [
        "#Kurtosis of the household size\n",
        "clean_df['household_size'].kurt()"
      ],
      "execution_count": 34,
      "outputs": [
        {
          "output_type": "execute_result",
          "data": {
            "text/plain": [
              "-0.5063903490094659"
            ]
          },
          "metadata": {},
          "execution_count": 34
        }
      ]
    },
    {
      "cell_type": "code",
      "metadata": {
        "colab": {
          "base_uri": "https://localhost:8080/"
        },
        "id": "jB2iswUKeMvo",
        "outputId": "209fb804-8c60-47fe-88c6-dae65b2842d1"
      },
      "source": [
        "#Summary\n",
        "clean_df['household_size'].describe()"
      ],
      "execution_count": 35,
      "outputs": [
        {
          "output_type": "execute_result",
          "data": {
            "text/plain": [
              "count    22698.000000\n",
              "mean         3.584104\n",
              "std          2.078110\n",
              "min          1.000000\n",
              "25%          2.000000\n",
              "50%          3.000000\n",
              "75%          5.000000\n",
              "max          9.000000\n",
              "Name: household_size, dtype: float64"
            ]
          },
          "metadata": {},
          "execution_count": 35
        }
      ]
    },
    {
      "cell_type": "code",
      "metadata": {
        "colab": {
          "base_uri": "https://localhost:8080/",
          "height": 295
        },
        "id": "dsPV0AUge8QR",
        "outputId": "8ef6690a-b7c1-4842-8028-52150917ff66"
      },
      "source": [
        "#Age\n",
        "plt.hist(clean_df['age'], bins=10, histtype='bar', rwidth=0.9)\n",
        "plt.xlabel('Ages')\n",
        "plt.ylabel('Number of people')\n",
        "plt.title('Distribution of ages')\n",
        "plt.show()"
      ],
      "execution_count": 36,
      "outputs": [
        {
          "output_type": "display_data",
          "data": {
            "image/png": "[encoded data removed]",
            "text/plain": [
              "<Figure size 432x288 with 1 Axes>"
            ]
          },
          "metadata": {
            "needs_background": "light"
          }
        }
      ]
    },
    {
      "cell_type": "markdown",
      "metadata": {
        "id": "1Qzg8Ux9e8QX"
      },
      "source": [
        "***Measures of central tendancy for Ages***"
      ]
    },
    {
      "cell_type": "code",
      "metadata": {
        "colab": {
          "base_uri": "https://localhost:8080/"
        },
        "id": "C6rIJIk_e8QX",
        "outputId": "c3d18e43-f765-4dfa-92e3-1376505c12c1"
      },
      "source": [
        "#Mean \n",
        "clean_df['age'].mean()\n",
        "\n"
      ],
      "execution_count": 37,
      "outputs": [
        {
          "output_type": "execute_result",
          "data": {
            "text/plain": [
              "38.340074015331744"
            ]
          },
          "metadata": {},
          "execution_count": 37
        }
      ]
    },
    {
      "cell_type": "code",
      "metadata": {
        "colab": {
          "base_uri": "https://localhost:8080/"
        },
        "id": "y7Y0nrkGe8QX",
        "outputId": "e0f7595f-a5a4-4fda-af3f-3f2b45cdbb42"
      },
      "source": [
        "#Mode \n",
        "clean_df['age'].mode()"
      ],
      "execution_count": 38,
      "outputs": [
        {
          "output_type": "execute_result",
          "data": {
            "text/plain": [
              "0    30.0\n",
              "dtype: float64"
            ]
          },
          "metadata": {},
          "execution_count": 38
        }
      ]
    },
    {
      "cell_type": "code",
      "metadata": {
        "colab": {
          "base_uri": "https://localhost:8080/"
        },
        "id": "ONPdI5AEe8QY",
        "outputId": "ee007ec2-c28b-4505-f4f0-69e19e208872"
      },
      "source": [
        "#Median \n",
        "clean_df['age'].median()"
      ],
      "execution_count": 39,
      "outputs": [
        {
          "output_type": "execute_result",
          "data": {
            "text/plain": [
              "35.0"
            ]
          },
          "metadata": {},
          "execution_count": 39
        }
      ]
    },
    {
      "cell_type": "markdown",
      "metadata": {
        "id": "be2NORV_e8QY"
      },
      "source": [
        "***Measures of dispersion for Ages***"
      ]
    },
    {
      "cell_type": "code",
      "metadata": {
        "colab": {
          "base_uri": "https://localhost:8080/"
        },
        "id": "1VRDFozee8QY",
        "outputId": "7316d5b8-599f-4cfa-f7d9-ae6e1d3e10aa"
      },
      "source": [
        "#range \n",
        "\n",
        "clean_df['age'].max()-clean_df['age'].min()"
      ],
      "execution_count": 40,
      "outputs": [
        {
          "output_type": "execute_result",
          "data": {
            "text/plain": [
              "67.0"
            ]
          },
          "metadata": {},
          "execution_count": 40
        }
      ]
    },
    {
      "cell_type": "code",
      "metadata": {
        "colab": {
          "base_uri": "https://localhost:8080/"
        },
        "id": "6WibFmQke8QY",
        "outputId": "5f83d11c-987d-4f43-8d3f-05249501dbd7"
      },
      "source": [
        "#Variance \n",
        "clean_df['age'].var()"
      ],
      "execution_count": 41,
      "outputs": [
        {
          "output_type": "execute_result",
          "data": {
            "text/plain": [
              "249.48750798235838"
            ]
          },
          "metadata": {},
          "execution_count": 41
        }
      ]
    },
    {
      "cell_type": "code",
      "metadata": {
        "colab": {
          "base_uri": "https://localhost:8080/"
        },
        "id": "hF8ACux7e8QY",
        "outputId": "874d94c7-bfdb-4ddd-efca-17f9d591e772"
      },
      "source": [
        "#Standard deviation\n",
        "clean_df['age'].std()"
      ],
      "execution_count": 42,
      "outputs": [
        {
          "output_type": "execute_result",
          "data": {
            "text/plain": [
              "15.795173566072593"
            ]
          },
          "metadata": {},
          "execution_count": 42
        }
      ]
    },
    {
      "cell_type": "code",
      "metadata": {
        "colab": {
          "base_uri": "https://localhost:8080/"
        },
        "id": "6KSiLKNSe8QY",
        "outputId": "3fb9b074-ee18-4211-dd78-5e6fb79330ff"
      },
      "source": [
        "#Quatiles \n",
        "clean_df['age'].quantile([0.25,0.5,0.75])"
      ],
      "execution_count": 43,
      "outputs": [
        {
          "output_type": "execute_result",
          "data": {
            "text/plain": [
              "0.25    26.0\n",
              "0.50    35.0\n",
              "0.75    48.0\n",
              "Name: age, dtype: float64"
            ]
          },
          "metadata": {},
          "execution_count": 43
        }
      ]
    },
    {
      "cell_type": "code",
      "metadata": {
        "colab": {
          "base_uri": "https://localhost:8080/"
        },
        "id": "BlrA1lJ_e8QZ",
        "outputId": "a45f8a4d-f0b6-46ef-f101-0e72ef569f4e"
      },
      "source": [
        "#Skewness \n",
        "clean_df['age'].skew()\n"
      ],
      "execution_count": 44,
      "outputs": [
        {
          "output_type": "execute_result",
          "data": {
            "text/plain": [
              "0.740547706632171"
            ]
          },
          "metadata": {},
          "execution_count": 44
        }
      ]
    },
    {
      "cell_type": "code",
      "metadata": {
        "colab": {
          "base_uri": "https://localhost:8080/"
        },
        "id": "HNtEwyY7e8QZ",
        "outputId": "2f3b2cf2-8da9-408f-892f-c4eba2d4e44f"
      },
      "source": [
        "#Kurtosis \n",
        "clean_df['age'].kurt()"
      ],
      "execution_count": 45,
      "outputs": [
        {
          "output_type": "execute_result",
          "data": {
            "text/plain": [
              "-0.23526904531397586"
            ]
          },
          "metadata": {},
          "execution_count": 45
        }
      ]
    },
    {
      "cell_type": "code",
      "metadata": {
        "colab": {
          "base_uri": "https://localhost:8080/"
        },
        "id": "rAuBRXcpe8QZ",
        "outputId": "3cad5563-23bc-44bc-ecf2-c3bbbe9c8cee"
      },
      "source": [
        "#Summary\n",
        "clean_df['age'].describe()"
      ],
      "execution_count": 46,
      "outputs": [
        {
          "output_type": "execute_result",
          "data": {
            "text/plain": [
              "count    22698.000000\n",
              "mean        38.340074\n",
              "std         15.795174\n",
              "min         16.000000\n",
              "25%         26.000000\n",
              "50%         35.000000\n",
              "75%         48.000000\n",
              "max         83.000000\n",
              "Name: age, dtype: float64"
            ]
          },
          "metadata": {},
          "execution_count": 46
        }
      ]
    },
    {
      "cell_type": "markdown",
      "metadata": {
        "id": "t30vmjYFjKuE"
      },
      "source": [
        "### **Bivariate analysis**"
      ]
    },
    {
      "cell_type": "markdown",
      "metadata": {
        "id": "SXdTGfXysSAJ"
      },
      "source": [
        "**We start with Categorical vs categorical**\n"
      ]
    },
    {
      "cell_type": "code",
      "metadata": {
        "colab": {
          "base_uri": "https://localhost:8080/"
        },
        "id": "r0mhRJAHsY_3",
        "outputId": "f9b803df-e3a7-49b3-dc77-99d76700a12a"
      },
      "source": [
        "clean_df.info()"
      ],
      "execution_count": 47,
      "outputs": [
        {
          "output_type": "stream",
          "name": "stdout",
          "text": [
            "<class 'pandas.core.frame.DataFrame'>\n",
            "Int64Index: 22698 entries, 0 to 23522\n",
            "Data columns (total 13 columns):\n",
            " #   Column                  Non-Null Count  Dtype  \n",
            "---  ------                  --------------  -----  \n",
            " 0   country                 22698 non-null  object \n",
            " 1   year                    22698 non-null  int64  \n",
            " 2   uniqueid                22698 non-null  object \n",
            " 3   bank_account            22698 non-null  object \n",
            " 4   location                22698 non-null  object \n",
            " 5   phone                   22698 non-null  object \n",
            " 6   household_size          22698 non-null  float64\n",
            " 7   age                     22698 non-null  float64\n",
            " 8   gender                  22698 non-null  object \n",
            " 9   relationship_with_head  22698 non-null  object \n",
            " 10  marital_status          22698 non-null  object \n",
            " 11  education_level         22698 non-null  object \n",
            " 12  type_of_job             22698 non-null  object \n",
            "dtypes: float64(2), int64(1), object(10)\n",
            "memory usage: 2.4+ MB\n"
          ]
        }
      ]
    },
    {
      "cell_type": "code",
      "metadata": {
        "colab": {
          "base_uri": "https://localhost:8080/",
          "height": 426
        },
        "id": "qmrxYlIvshyL",
        "outputId": "bcc955bb-3dcf-4056-967b-a6e0f18615c4"
      },
      "source": [
        "#Is there a relationship Countries and bank accounts\n",
        "country=fin_df.groupby('country')['bank_account'].value_counts(normalize=True).unstack()\n",
        "\n",
        "# Specifying the colors of the stacked columns\n",
        "colors= ['Green', 'Orange']\n",
        "# Plotting the chart\n",
        "country.plot(kind='bar', figsize=(8, 6), color=colors, stacked=True)\n",
        "# Giving the chart a title\n",
        "plt.title('Bank Account ownership per country', fontsize=15, y=1.015)\n",
        "# Labelling the x axis\n",
        "plt.xlabel('country', fontsize=14, labelpad=15)\n",
        "# rotating the labels on the x axis\n",
        "plt.xticks(rotation = 360)\n",
        "# Labellinbg the y axis\n",
        "plt.ylabel('Bank account use', fontsize=14, labelpad=15)\n",
        "# Displaying the chart\n",
        "plt.show()"
      ],
      "execution_count": 48,
      "outputs": [
        {
          "output_type": "display_data",
          "data": {
            "image/png": "[encoded data removed]",
            "text/plain": [
              "<Figure size 576x432 with 1 Axes>"
            ]
          },
          "metadata": {
            "needs_background": "light"
          }
        }
      ]
    },
    {
      "cell_type": "code",
      "metadata": {
        "colab": {
          "base_uri": "https://localhost:8080/",
          "height": 313
        },
        "id": "1nxfggGYwOTl",
        "outputId": "da4d4655-96a9-48ef-88a2-6ca77849eddf"
      },
      "source": [
        "#Whats the proportion of bank accout use with ages?\n",
        "\n",
        "sns.boxplot(x='bank_account',y='age',data=clean_df, hue = 'gender', palette='rainbow')\n",
        "plt.title(\"Access to bank by age and gender\")"
      ],
      "execution_count": 49,
      "outputs": [
        {
          "output_type": "execute_result",
          "data": {
            "text/plain": [
              "Text(0.5, 1.0, 'Access to bank by age and gender')"
            ]
          },
          "metadata": {},
          "execution_count": 49
        },
        {
          "output_type": "display_data",
          "data": {
            "image/png": "[encoded data removed]",
            "text/plain": [
              "<Figure size 432x288 with 1 Axes>"
            ]
          },
          "metadata": {
            "needs_background": "light"
          }
        }
      ]
    },
    {
      "cell_type": "markdown",
      "metadata": {
        "id": "q4Voiv1z7Dak"
      },
      "source": [
        "We can see here those with bank account are those between the ages of 30 and 49 for both genders. "
      ]
    },
    {
      "cell_type": "code",
      "metadata": {
        "colab": {
          "base_uri": "https://localhost:8080/",
          "height": 426
        },
        "id": "HVnXY-2E8bxB",
        "outputId": "a6b43750-f0a5-4bb2-c372-04757e2eeb9f"
      },
      "source": [
        "loc=fin_df.groupby('location')['bank_account'].value_counts(normalize=True)\n",
        "\n",
        "\n",
        "# Specifying the colors of the stacked columns\n",
        "colors= ['Green', 'Orange']\n",
        "# Plotting the chart\n",
        "loc.plot(kind='bar', figsize=(8, 6), color=colors, stacked=True)\n",
        "# Giving the chart a title\n",
        "plt.title('Bank Account access per location', fontsize=15, y=1.015)\n",
        "# Labelling the x axis\n",
        "plt.xlabel('Location', fontsize=14, labelpad=15)\n",
        "# rotating the labels on the x axis\n",
        "plt.xticks(rotation = 360)\n",
        "# Labellinbg the y axis\n",
        "plt.ylabel('Bank account access', fontsize=14, labelpad=15)\n",
        "# Displaying the chart\n",
        "plt.show()"
      ],
      "execution_count": 50,
      "outputs": [
        {
          "output_type": "display_data",
          "data": {
            "image/png": "[encoded data removed]",
            "text/plain": [
              "<Figure size 576x432 with 1 Axes>"
            ]
          },
          "metadata": {
            "needs_background": "light"
          }
        }
      ]
    },
    {
      "cell_type": "markdown",
      "metadata": {
        "id": "T5oJLiBy_cBr"
      },
      "source": [
        "Urban areas have the highest bank access"
      ]
    },
    {
      "cell_type": "code",
      "metadata": {
        "colab": {
          "base_uri": "https://localhost:8080/",
          "height": 409
        },
        "id": "W7sDlhfx8nOl",
        "outputId": "957a73db-d02f-44c5-d8b2-698ad7d2fb3b"
      },
      "source": [
        "phone=fin_df.groupby('phone')['bank_account'].value_counts(normalize=True)\n",
        "\n",
        "\n",
        "# Specifying the colors of the stacked columns\n",
        "colors= ['Green', 'Orange']\n",
        "# Plotting the chart\n",
        "phone.plot(kind='pie', figsize=(8, 6),  stacked=True)\n",
        "# Giving the chart a title\n",
        "plt.title('Bank Account access per location', fontsize=15, y=1.015)\n",
        "# Labelling the x axis\n",
        "plt.xlabel('Location', fontsize=14, labelpad=15)\n",
        "# rotating the labels on the x axis\n",
        "plt.xticks(rotation = 360)\n",
        "# Labellinbg the y axis\n",
        "plt.ylabel('Bank account access', fontsize=14, labelpad=15)\n",
        "# Displaying the chart\n",
        "plt.show()"
      ],
      "execution_count": 51,
      "outputs": [
        {
          "output_type": "display_data",
          "data": {
            "image/png": "[encoded data removed]",
            "text/plain": [
              "<Figure size 576x432 with 1 Axes>"
            ]
          },
          "metadata": {}
        }
      ]
    },
    {
      "cell_type": "markdown",
      "metadata": {
        "id": "AWQs2XKqb3qI"
      },
      "source": [
        "# **Implementing Solution**"
      ]
    },
    {
      "cell_type": "markdown",
      "metadata": {
        "id": "zWAlPCTDcE79"
      },
      "source": [
        "To implement solution we will go through Multivariate analysis. Specifically we will do a principle component analysis.\n",
        "\n",
        "**Why PCA**\n",
        "\n",
        "Because we can reduce all this features to be analysed as one feature therefore saving us time ."
      ]
    },
    {
      "cell_type": "code",
      "metadata": {
        "colab": {
          "base_uri": "https://localhost:8080/",
          "height": 306
        },
        "id": "NEIw_QBXdksn",
        "outputId": "ad683996-eefc-4092-f5c4-f65cfba94a28"
      },
      "source": [
        "#Lets first check our dataset\n",
        "\n",
        "clean_df.tail()"
      ],
      "execution_count": 52,
      "outputs": [
        {
          "output_type": "execute_result",
          "data": {
            "text/html": [
              "<div>\n",
              "<style scoped>\n",
              "    .dataframe tbody tr th:only-of-type {\n",
              "        vertical-align: middle;\n",
              "    }\n",
              "\n",
              "    .dataframe tbody tr th {\n",
              "        vertical-align: top;\n",
              "    }\n",
              "\n",
              "    .dataframe thead th {\n",
              "        text-align: right;\n",
              "    }\n",
              "</style>\n",
              "<table border=\"1\" class=\"dataframe\">\n",
              "  <thead>\n",
              "    <tr style=\"text-align: right;\">\n",
              "      <th></th>\n",
              "      <th>country</th>\n",
              "      <th>year</th>\n",
              "      <th>uniqueid</th>\n",
              "      <th>bank_account</th>\n",
              "      <th>location</th>\n",
              "      <th>phone</th>\n",
              "      <th>household_size</th>\n",
              "      <th>age</th>\n",
              "      <th>gender</th>\n",
              "      <th>relationship_with_head</th>\n",
              "      <th>marital_status</th>\n",
              "      <th>education_level</th>\n",
              "      <th>type_of_job</th>\n",
              "    </tr>\n",
              "  </thead>\n",
              "  <tbody>\n",
              "    <tr>\n",
              "      <th>23512</th>\n",
              "      <td>Uganda</td>\n",
              "      <td>2018</td>\n",
              "      <td>uniqueid_2102</td>\n",
              "      <td>No</td>\n",
              "      <td>Rural</td>\n",
              "      <td>No</td>\n",
              "      <td>2.0</td>\n",
              "      <td>57.0</td>\n",
              "      <td>Female</td>\n",
              "      <td>Head of Household</td>\n",
              "      <td>Divorced/Seperated</td>\n",
              "      <td>No formal education</td>\n",
              "      <td>Other Income</td>\n",
              "    </tr>\n",
              "    <tr>\n",
              "      <th>23519</th>\n",
              "      <td>Uganda</td>\n",
              "      <td>2018</td>\n",
              "      <td>uniqueid_2113</td>\n",
              "      <td>No</td>\n",
              "      <td>Rural</td>\n",
              "      <td>Yes</td>\n",
              "      <td>4.0</td>\n",
              "      <td>48.0</td>\n",
              "      <td>Female</td>\n",
              "      <td>Head of Household</td>\n",
              "      <td>Divorced/Seperated</td>\n",
              "      <td>No formal education</td>\n",
              "      <td>Other Income</td>\n",
              "    </tr>\n",
              "    <tr>\n",
              "      <th>23520</th>\n",
              "      <td>Uganda</td>\n",
              "      <td>2018</td>\n",
              "      <td>uniqueid_2114</td>\n",
              "      <td>No</td>\n",
              "      <td>Rural</td>\n",
              "      <td>Yes</td>\n",
              "      <td>2.0</td>\n",
              "      <td>27.0</td>\n",
              "      <td>Female</td>\n",
              "      <td>Head of Household</td>\n",
              "      <td>Single/Never Married</td>\n",
              "      <td>Secondary education</td>\n",
              "      <td>Other Income</td>\n",
              "    </tr>\n",
              "    <tr>\n",
              "      <th>23521</th>\n",
              "      <td>Uganda</td>\n",
              "      <td>2018</td>\n",
              "      <td>uniqueid_2115</td>\n",
              "      <td>No</td>\n",
              "      <td>Rural</td>\n",
              "      <td>Yes</td>\n",
              "      <td>5.0</td>\n",
              "      <td>27.0</td>\n",
              "      <td>Female</td>\n",
              "      <td>Parent</td>\n",
              "      <td>Widowed</td>\n",
              "      <td>Primary education</td>\n",
              "      <td>Other Income</td>\n",
              "    </tr>\n",
              "    <tr>\n",
              "      <th>23522</th>\n",
              "      <td>Uganda</td>\n",
              "      <td>2018</td>\n",
              "      <td>uniqueid_2116</td>\n",
              "      <td>No</td>\n",
              "      <td>Urban</td>\n",
              "      <td>Yes</td>\n",
              "      <td>7.0</td>\n",
              "      <td>30.0</td>\n",
              "      <td>Female</td>\n",
              "      <td>Parent</td>\n",
              "      <td>Divorced/Seperated</td>\n",
              "      <td>Secondary education</td>\n",
              "      <td>Self employed</td>\n",
              "    </tr>\n",
              "  </tbody>\n",
              "</table>\n",
              "</div>"
            ],
            "text/plain": [
              "      country  year  ...      education_level    type_of_job\n",
              "23512  Uganda  2018  ...  No formal education   Other Income\n",
              "23519  Uganda  2018  ...  No formal education   Other Income\n",
              "23520  Uganda  2018  ...  Secondary education   Other Income\n",
              "23521  Uganda  2018  ...    Primary education   Other Income\n",
              "23522  Uganda  2018  ...  Secondary education  Self employed\n",
              "\n",
              "[5 rows x 13 columns]"
            ]
          },
          "metadata": {},
          "execution_count": 52
        }
      ]
    },
    {
      "cell_type": "markdown",
      "metadata": {
        "id": "L7eFk5fldx30"
      },
      "source": [
        "For us to work with this dataset we must convert the objects to labels that machine can read. This is encoding the data."
      ]
    },
    {
      "cell_type": "code",
      "metadata": {
        "colab": {
          "base_uri": "https://localhost:8080/"
        },
        "id": "RHTvhWg6dst-",
        "outputId": "fbc7c7cc-2583-45e0-923b-05cb5fe62724"
      },
      "source": [
        "#Here we are encoding the data that is replacing values with numerical codes that will be undaerstood by the machine\n",
        "#Importing the encoder\n",
        "from sklearn.preprocessing import LabelEncoder\n",
        "encoder=LabelEncoder()\n",
        "\n",
        "#Encoding each column individually\n",
        "\n",
        "clean_df['country']=encoder.fit_transform(clean_df['country'].astype(str))\n",
        "\n",
        "clean_df['location']=encoder.fit_transform(clean_df['location'].astype(str))\n",
        "\n",
        "clean_df['phone']=encoder.fit_transform(clean_df['phone'].astype(str))\n",
        "\n",
        "clean_df['gender']=encoder.fit_transform(clean_df['gender'].astype(str))\n",
        "\n",
        "clean_df['relationship_with_head']=encoder.fit_transform(clean_df['relationship_with_head'].astype(str))\n",
        "\n",
        "clean_df['marital_status']=encoder.fit_transform(clean_df['marital_status'].astype(str))\n",
        "\n",
        "clean_df['education_level']=encoder.fit_transform(clean_df['education_level'].astype(str))\n",
        "\n",
        "clean_df['type_of_job']=encoder.fit_transform(clean_df['type_of_job'].astype(str))\n"
      ],
      "execution_count": 53,
      "outputs": [
        {
          "output_type": "stream",
          "name": "stderr",
          "text": [
            "/usr/local/lib/python3.7/dist-packages/ipykernel_launcher.py:8: SettingWithCopyWarning: \n",
            "A value is trying to be set on a copy of a slice from a DataFrame.\n",
            "Try using .loc[row_indexer,col_indexer] = value instead\n",
            "\n",
            "See the caveats in the documentation: https://pandas.pydata.org/pandas-docs/stable/user_guide/indexing.html#returning-a-view-versus-a-copy\n",
            "  \n",
            "/usr/local/lib/python3.7/dist-packages/ipykernel_launcher.py:10: SettingWithCopyWarning: \n",
            "A value is trying to be set on a copy of a slice from a DataFrame.\n",
            "Try using .loc[row_indexer,col_indexer] = value instead\n",
            "\n",
            "See the caveats in the documentation: https://pandas.pydata.org/pandas-docs/stable/user_guide/indexing.html#returning-a-view-versus-a-copy\n",
            "  # Remove the CWD from sys.path while we load stuff.\n",
            "/usr/local/lib/python3.7/dist-packages/ipykernel_launcher.py:12: SettingWithCopyWarning: \n",
            "A value is trying to be set on a copy of a slice from a DataFrame.\n",
            "Try using .loc[row_indexer,col_indexer] = value instead\n",
            "\n",
            "See the caveats in the documentation: https://pandas.pydata.org/pandas-docs/stable/user_guide/indexing.html#returning-a-view-versus-a-copy\n",
            "  if sys.path[0] == '':\n",
            "/usr/local/lib/python3.7/dist-packages/ipykernel_launcher.py:14: SettingWithCopyWarning: \n",
            "A value is trying to be set on a copy of a slice from a DataFrame.\n",
            "Try using .loc[row_indexer,col_indexer] = value instead\n",
            "\n",
            "See the caveats in the documentation: https://pandas.pydata.org/pandas-docs/stable/user_guide/indexing.html#returning-a-view-versus-a-copy\n",
            "  \n",
            "/usr/local/lib/python3.7/dist-packages/ipykernel_launcher.py:16: SettingWithCopyWarning: \n",
            "A value is trying to be set on a copy of a slice from a DataFrame.\n",
            "Try using .loc[row_indexer,col_indexer] = value instead\n",
            "\n",
            "See the caveats in the documentation: https://pandas.pydata.org/pandas-docs/stable/user_guide/indexing.html#returning-a-view-versus-a-copy\n",
            "  app.launch_new_instance()\n",
            "/usr/local/lib/python3.7/dist-packages/ipykernel_launcher.py:18: SettingWithCopyWarning: \n",
            "A value is trying to be set on a copy of a slice from a DataFrame.\n",
            "Try using .loc[row_indexer,col_indexer] = value instead\n",
            "\n",
            "See the caveats in the documentation: https://pandas.pydata.org/pandas-docs/stable/user_guide/indexing.html#returning-a-view-versus-a-copy\n",
            "/usr/local/lib/python3.7/dist-packages/ipykernel_launcher.py:20: SettingWithCopyWarning: \n",
            "A value is trying to be set on a copy of a slice from a DataFrame.\n",
            "Try using .loc[row_indexer,col_indexer] = value instead\n",
            "\n",
            "See the caveats in the documentation: https://pandas.pydata.org/pandas-docs/stable/user_guide/indexing.html#returning-a-view-versus-a-copy\n",
            "/usr/local/lib/python3.7/dist-packages/ipykernel_launcher.py:22: SettingWithCopyWarning: \n",
            "A value is trying to be set on a copy of a slice from a DataFrame.\n",
            "Try using .loc[row_indexer,col_indexer] = value instead\n",
            "\n",
            "See the caveats in the documentation: https://pandas.pydata.org/pandas-docs/stable/user_guide/indexing.html#returning-a-view-versus-a-copy\n"
          ]
        }
      ]
    },
    {
      "cell_type": "code",
      "metadata": {
        "colab": {
          "base_uri": "https://localhost:8080/",
          "height": 202
        },
        "id": "W9kGQ9E0i9Mm",
        "outputId": "02502374-8fe5-4261-92bc-dbd7191cb93f"
      },
      "source": [
        "#Lets have a look at our new dataset\n",
        "clean_df.head()"
      ],
      "execution_count": 54,
      "outputs": [
        {
          "output_type": "execute_result",
          "data": {
            "text/html": [
              "<div>\n",
              "<style scoped>\n",
              "    .dataframe tbody tr th:only-of-type {\n",
              "        vertical-align: middle;\n",
              "    }\n",
              "\n",
              "    .dataframe tbody tr th {\n",
              "        vertical-align: top;\n",
              "    }\n",
              "\n",
              "    .dataframe thead th {\n",
              "        text-align: right;\n",
              "    }\n",
              "</style>\n",
              "<table border=\"1\" class=\"dataframe\">\n",
              "  <thead>\n",
              "    <tr style=\"text-align: right;\">\n",
              "      <th></th>\n",
              "      <th>country</th>\n",
              "      <th>year</th>\n",
              "      <th>uniqueid</th>\n",
              "      <th>bank_account</th>\n",
              "      <th>location</th>\n",
              "      <th>phone</th>\n",
              "      <th>household_size</th>\n",
              "      <th>age</th>\n",
              "      <th>gender</th>\n",
              "      <th>relationship_with_head</th>\n",
              "      <th>marital_status</th>\n",
              "      <th>education_level</th>\n",
              "      <th>type_of_job</th>\n",
              "    </tr>\n",
              "  </thead>\n",
              "  <tbody>\n",
              "    <tr>\n",
              "      <th>0</th>\n",
              "      <td>0</td>\n",
              "      <td>2018</td>\n",
              "      <td>uniqueid_1</td>\n",
              "      <td>Yes</td>\n",
              "      <td>0</td>\n",
              "      <td>1</td>\n",
              "      <td>3.0</td>\n",
              "      <td>24.0</td>\n",
              "      <td>0</td>\n",
              "      <td>5</td>\n",
              "      <td>2</td>\n",
              "      <td>4</td>\n",
              "      <td>9</td>\n",
              "    </tr>\n",
              "    <tr>\n",
              "      <th>1</th>\n",
              "      <td>0</td>\n",
              "      <td>2018</td>\n",
              "      <td>uniqueid_2</td>\n",
              "      <td>No</td>\n",
              "      <td>0</td>\n",
              "      <td>0</td>\n",
              "      <td>5.0</td>\n",
              "      <td>70.0</td>\n",
              "      <td>0</td>\n",
              "      <td>1</td>\n",
              "      <td>4</td>\n",
              "      <td>1</td>\n",
              "      <td>4</td>\n",
              "    </tr>\n",
              "    <tr>\n",
              "      <th>2</th>\n",
              "      <td>0</td>\n",
              "      <td>2018</td>\n",
              "      <td>uniqueid_3</td>\n",
              "      <td>Yes</td>\n",
              "      <td>1</td>\n",
              "      <td>1</td>\n",
              "      <td>5.0</td>\n",
              "      <td>26.0</td>\n",
              "      <td>1</td>\n",
              "      <td>3</td>\n",
              "      <td>3</td>\n",
              "      <td>6</td>\n",
              "      <td>9</td>\n",
              "    </tr>\n",
              "    <tr>\n",
              "      <th>3</th>\n",
              "      <td>0</td>\n",
              "      <td>2018</td>\n",
              "      <td>uniqueid_4</td>\n",
              "      <td>No</td>\n",
              "      <td>0</td>\n",
              "      <td>1</td>\n",
              "      <td>5.0</td>\n",
              "      <td>34.0</td>\n",
              "      <td>0</td>\n",
              "      <td>1</td>\n",
              "      <td>2</td>\n",
              "      <td>3</td>\n",
              "      <td>3</td>\n",
              "    </tr>\n",
              "    <tr>\n",
              "      <th>4</th>\n",
              "      <td>0</td>\n",
              "      <td>2018</td>\n",
              "      <td>uniqueid_5</td>\n",
              "      <td>No</td>\n",
              "      <td>1</td>\n",
              "      <td>0</td>\n",
              "      <td>8.0</td>\n",
              "      <td>26.0</td>\n",
              "      <td>1</td>\n",
              "      <td>0</td>\n",
              "      <td>3</td>\n",
              "      <td>3</td>\n",
              "      <td>5</td>\n",
              "    </tr>\n",
              "  </tbody>\n",
              "</table>\n",
              "</div>"
            ],
            "text/plain": [
              "   country  year    uniqueid  ... marital_status  education_level  type_of_job\n",
              "0        0  2018  uniqueid_1  ...              2                4            9\n",
              "1        0  2018  uniqueid_2  ...              4                1            4\n",
              "2        0  2018  uniqueid_3  ...              3                6            9\n",
              "3        0  2018  uniqueid_4  ...              2                3            3\n",
              "4        0  2018  uniqueid_5  ...              3                3            5\n",
              "\n",
              "[5 rows x 13 columns]"
            ]
          },
          "metadata": {},
          "execution_count": 54
        }
      ]
    },
    {
      "cell_type": "code",
      "metadata": {
        "colab": {
          "base_uri": "https://localhost:8080/",
          "height": 286
        },
        "id": "3fwR_7JkjGR_",
        "outputId": "fc52faea-282d-4eff-a193-89032528cf19"
      },
      "source": [
        "#Since we are not going to use year and unique id lets drop them\n",
        "\n",
        "clean_df.drop(['year', 'uniqueid'],axis=1, inplace=True)\n",
        "clean_df.tail()"
      ],
      "execution_count": 55,
      "outputs": [
        {
          "output_type": "stream",
          "name": "stderr",
          "text": [
            "/usr/local/lib/python3.7/dist-packages/pandas/core/frame.py:4174: SettingWithCopyWarning: \n",
            "A value is trying to be set on a copy of a slice from a DataFrame\n",
            "\n",
            "See the caveats in the documentation: https://pandas.pydata.org/pandas-docs/stable/user_guide/indexing.html#returning-a-view-versus-a-copy\n",
            "  errors=errors,\n"
          ]
        },
        {
          "output_type": "execute_result",
          "data": {
            "text/html": [
              "<div>\n",
              "<style scoped>\n",
              "    .dataframe tbody tr th:only-of-type {\n",
              "        vertical-align: middle;\n",
              "    }\n",
              "\n",
              "    .dataframe tbody tr th {\n",
              "        vertical-align: top;\n",
              "    }\n",
              "\n",
              "    .dataframe thead th {\n",
              "        text-align: right;\n",
              "    }\n",
              "</style>\n",
              "<table border=\"1\" class=\"dataframe\">\n",
              "  <thead>\n",
              "    <tr style=\"text-align: right;\">\n",
              "      <th></th>\n",
              "      <th>country</th>\n",
              "      <th>bank_account</th>\n",
              "      <th>location</th>\n",
              "      <th>phone</th>\n",
              "      <th>household_size</th>\n",
              "      <th>age</th>\n",
              "      <th>gender</th>\n",
              "      <th>relationship_with_head</th>\n",
              "      <th>marital_status</th>\n",
              "      <th>education_level</th>\n",
              "      <th>type_of_job</th>\n",
              "    </tr>\n",
              "  </thead>\n",
              "  <tbody>\n",
              "    <tr>\n",
              "      <th>23512</th>\n",
              "      <td>3</td>\n",
              "      <td>No</td>\n",
              "      <td>0</td>\n",
              "      <td>0</td>\n",
              "      <td>2.0</td>\n",
              "      <td>57.0</td>\n",
              "      <td>0</td>\n",
              "      <td>1</td>\n",
              "      <td>0</td>\n",
              "      <td>1</td>\n",
              "      <td>7</td>\n",
              "    </tr>\n",
              "    <tr>\n",
              "      <th>23519</th>\n",
              "      <td>3</td>\n",
              "      <td>No</td>\n",
              "      <td>0</td>\n",
              "      <td>1</td>\n",
              "      <td>4.0</td>\n",
              "      <td>48.0</td>\n",
              "      <td>0</td>\n",
              "      <td>1</td>\n",
              "      <td>0</td>\n",
              "      <td>1</td>\n",
              "      <td>7</td>\n",
              "    </tr>\n",
              "    <tr>\n",
              "      <th>23520</th>\n",
              "      <td>3</td>\n",
              "      <td>No</td>\n",
              "      <td>0</td>\n",
              "      <td>1</td>\n",
              "      <td>2.0</td>\n",
              "      <td>27.0</td>\n",
              "      <td>0</td>\n",
              "      <td>1</td>\n",
              "      <td>3</td>\n",
              "      <td>4</td>\n",
              "      <td>7</td>\n",
              "    </tr>\n",
              "    <tr>\n",
              "      <th>23521</th>\n",
              "      <td>3</td>\n",
              "      <td>No</td>\n",
              "      <td>0</td>\n",
              "      <td>1</td>\n",
              "      <td>5.0</td>\n",
              "      <td>27.0</td>\n",
              "      <td>0</td>\n",
              "      <td>4</td>\n",
              "      <td>4</td>\n",
              "      <td>3</td>\n",
              "      <td>7</td>\n",
              "    </tr>\n",
              "    <tr>\n",
              "      <th>23522</th>\n",
              "      <td>3</td>\n",
              "      <td>No</td>\n",
              "      <td>1</td>\n",
              "      <td>1</td>\n",
              "      <td>7.0</td>\n",
              "      <td>30.0</td>\n",
              "      <td>0</td>\n",
              "      <td>4</td>\n",
              "      <td>0</td>\n",
              "      <td>4</td>\n",
              "      <td>9</td>\n",
              "    </tr>\n",
              "  </tbody>\n",
              "</table>\n",
              "</div>"
            ],
            "text/plain": [
              "       country bank_account  ...  education_level  type_of_job\n",
              "23512        3           No  ...                1            7\n",
              "23519        3           No  ...                1            7\n",
              "23520        3           No  ...                4            7\n",
              "23521        3           No  ...                3            7\n",
              "23522        3           No  ...                4            9\n",
              "\n",
              "[5 rows x 11 columns]"
            ]
          },
          "metadata": {},
          "execution_count": 55
        }
      ]
    },
    {
      "cell_type": "code",
      "metadata": {
        "id": "5pzq4gGwjhnA"
      },
      "source": [
        "#  Preprocessing\n",
        "# The first preprocessing step is to divide the dataset into a feature set and corresponding labels. \n",
        "# The following script performs this task. The script below stores the feature sets into the X variable \n",
        "# and the series of corresponding labels in to the y variable.\n",
        "# \n",
        "X = clean_df.drop('bank_account', 1)\n",
        "y = clean_df['bank_account']"
      ],
      "execution_count": 56,
      "outputs": []
    },
    {
      "cell_type": "code",
      "metadata": {
        "id": "qWtXcKsTkKc_"
      },
      "source": [
        "# Splitting the dataset into the Training set and Test set\n",
        "# The next preprocessing step is to divide data into training and test sets. \n",
        "# We execute the following script to do so:\n",
        "#\n",
        "from sklearn.model_selection import train_test_split\n",
        "\n",
        "X_train, X_test, y_train, y_test = train_test_split(X, y, test_size=0.2, random_state=0)"
      ],
      "execution_count": 57,
      "outputs": []
    },
    {
      "cell_type": "code",
      "metadata": {
        "id": "iuB2InqhkVVh"
      },
      "source": [
        "#Normalization\n",
        "# As mentioned earlier, PCA performs best with a normalized feature set. \n",
        "# We will perform standard scalar normalization to normalize our feature set. \n",
        "# To do this, we execute the following code:\n",
        "# \n",
        "from sklearn.preprocessing import StandardScaler\n",
        "\n",
        "sc = StandardScaler()\n",
        "X_train = sc.fit_transform(X_train)\n",
        "X_test = sc.transform(X_test)"
      ],
      "execution_count": 58,
      "outputs": []
    },
    {
      "cell_type": "code",
      "metadata": {
        "id": "3fNL6Z_ckbkP"
      },
      "source": [
        "#Applying PCA\n",
        "# It is only a matter of three lines of code to perform PCA using Python's Scikit-Learn library. \n",
        "# The PCA class is used for this purpose. PCA depends only upon the feature set and not the label data. \n",
        "# Therefore, PCA can be considered as an unsupervised machine learning technique.\n",
        "# Performing PCA using Scikit-Learn is a two-step process:\n",
        "# Initialize the PCA class by passing the number of components to the constructor.\n",
        "# Call the fit and then transform methods by passing the feature set to these methods. \n",
        "# The transform method returns the specified number of principal components.\n",
        "# Let's take a look at the following code. In the code above, we create a PCA object named pca. \n",
        "# We did not specify the number of components in the constructor. \n",
        "# Hence, all four of the features in the feature set will be returned for both the training and test sets.\n",
        "# \n",
        "from sklearn.decomposition import PCA\n",
        "\n",
        "pca = PCA()\n",
        "X_train = pca.fit_transform(X_train)\n",
        "X_test = pca.transform(X_test)"
      ],
      "execution_count": 59,
      "outputs": []
    },
    {
      "cell_type": "code",
      "metadata": {
        "colab": {
          "base_uri": "https://localhost:8080/"
        },
        "id": "UKvFYpJRkwpD",
        "outputId": "ebdb796a-1d2d-440b-e5c2-1e6cc64871d9"
      },
      "source": [
        "#Explained Variance Ratio\n",
        "# The PCA class contains explained_variance_ratio_ which returns the variance caused by each of the principal components. \n",
        "# We execute the following line of code to find the \"explained variance ratio\".\n",
        "# \n",
        "explained_variance = pca.explained_variance_ratio_\n",
        "\n",
        "# The explained_variance variable is now a float type array which contains variance ratios for each principal component. \n",
        "# The values for the explained_variance variable looks like what is shown in the output. \n",
        "# It can be seen that first principal component is responsible for 72.22% variance. \n",
        "# Similarly, the second principal component causes 23.9% variance in the dataset. \n",
        "# Collectively we can say that (72.22 + 23.9) 96.21% percent of the classification information contained \n",
        "# in the feature set is captured by the first two principal components.\n",
        "explained_variance"
      ],
      "execution_count": 60,
      "outputs": [
        {
          "output_type": "execute_result",
          "data": {
            "text/plain": [
              "array([0.19296087, 0.16025284, 0.15491074, 0.10195225, 0.08257215,\n",
              "       0.08092586, 0.07226875, 0.05712662, 0.05386717, 0.04316276])"
            ]
          },
          "metadata": {},
          "execution_count": 60
        }
      ]
    },
    {
      "cell_type": "code",
      "metadata": {
        "id": "isgfq7unlAYc"
      },
      "source": [
        "# Using 1 Principal Component\n",
        "# Let's first try to use 1 principal component to train our algorithm. To do so, execute the following code:\n",
        "# \n",
        "from sklearn.decomposition import PCA\n",
        "\n",
        "pca = PCA(n_components=1)\n",
        "X_train = pca.fit_transform(X_train)\n",
        "X_test = pca.transform(X_test)"
      ],
      "execution_count": 61,
      "outputs": []
    },
    {
      "cell_type": "code",
      "metadata": {
        "id": "ofjWBvSmlF6q"
      },
      "source": [
        "# Training and Making Predictions\n",
        "# In this case we'll use random forest classification for making the predictions.\n",
        "# \n",
        "from sklearn.ensemble import RandomForestClassifier\n",
        "\n",
        "classifier = RandomForestClassifier(max_depth=2, random_state=0)\n",
        "classifier.fit(X_train, y_train)\n",
        "\n",
        "# Predicting the Test set results\n",
        "y_pred = classifier.predict(X_test)"
      ],
      "execution_count": 62,
      "outputs": []
    },
    {
      "cell_type": "code",
      "metadata": {
        "colab": {
          "base_uri": "https://localhost:8080/"
        },
        "id": "O3AAXwtHlWdp",
        "outputId": "c1b85330-5834-4dda-8713-32bd0610e27f"
      },
      "source": [
        "# Performance Evaluation\n",
        "# \n",
        "from sklearn.metrics import confusion_matrix\n",
        "from sklearn.metrics import accuracy_score\n",
        "\n",
        "cm = confusion_matrix(y_test, y_pred)\n",
        "print(cm)\n",
        "print('Accuracy' , accuracy_score(y_test, y_pred))\n",
        "\n",
        "# Noting that from the output that with only one feature, \n",
        "# the resulting accuracy is in 85.54%"
      ],
      "execution_count": 63,
      "outputs": [
        {
          "output_type": "stream",
          "name": "stdout",
          "text": [
            "[[3878    0]\n",
            " [ 662    0]]\n",
            "Accuracy 0.8541850220264318\n"
          ]
        }
      ]
    },
    {
      "cell_type": "code",
      "metadata": {
        "id": "P3wEzeO-l-p9"
      },
      "source": [
        "# Evaluating classification performance of the random forest algorithm with 2 of the principal components\n",
        "\n",
        "# Divide data into train and test sets by executing the following script\n",
        "X_train, X_test, y_train, y_test = train_test_split(X, y, test_size=0.2, random_state=0)\n",
        "\n",
        "# Perform standard scalar normalization to normalize our feature set by executing the following code\n",
        "sc = StandardScaler()\n",
        "X_train = sc.fit_transform(X_train)\n",
        "X_test = sc.transform(X_test)\n",
        "\n",
        "# Use 2 principal components to train our algorithm by executing the following code\n",
        "pca = PCA(n_components=2)\n",
        "X_train = pca.fit_transform(X_train)\n",
        "X_test = pca.transform(X_test)"
      ],
      "execution_count": 64,
      "outputs": []
    },
    {
      "cell_type": "code",
      "metadata": {
        "colab": {
          "base_uri": "https://localhost:8080/"
        },
        "id": "4uATAdoPD_Pw",
        "outputId": "8efec6ad-a956-4508-a666-d5f702ea1de0"
      },
      "source": [
        "# Use random forest classification for training and making the predictions when using two of the principal components\n",
        "from sklearn.ensemble import RandomForestClassifier\n",
        "\n",
        "classifier = RandomForestClassifier(max_depth=2, random_state=0)\n",
        "classifier.fit(X_train, y_train)\n",
        "\n",
        "# Predicting the Test set results\n",
        "y_pred = classifier.predict(X_test)\n",
        "y_pred"
      ],
      "execution_count": 65,
      "outputs": [
        {
          "output_type": "execute_result",
          "data": {
            "text/plain": [
              "array(['No', 'No', 'No', ..., 'No', 'No', 'No'], dtype=object)"
            ]
          },
          "metadata": {},
          "execution_count": 65
        }
      ]
    },
    {
      "cell_type": "code",
      "metadata": {
        "colab": {
          "base_uri": "https://localhost:8080/"
        },
        "id": "Dkej4VDfEKxc",
        "outputId": "6ca349a0-9d0c-4828-aaa2-f5c01937e859"
      },
      "source": [
        "# Predicting the Test set results\n",
        "y_pred = classifier.predict(X_test)\n",
        "\n",
        "cm = confusion_matrix(y_test, y_pred)\n",
        "print(cm)\n",
        "print('Accuracy' , accuracy_score(y_test, y_pred))"
      ],
      "execution_count": 66,
      "outputs": [
        {
          "output_type": "stream",
          "name": "stdout",
          "text": [
            "[[3878    0]\n",
            " [ 662    0]]\n",
            "Accuracy 0.8541850220264318\n"
          ]
        }
      ]
    },
    {
      "cell_type": "markdown",
      "metadata": {
        "id": "823Sjul_MN9h"
      },
      "source": [
        "We can see the prediction is the same. Therefore it is safe to say that its possible to predict whether all this factors can influence an individual to own a bank account."
      ]
    },
    {
      "cell_type": "markdown",
      "metadata": {
        "id": "qV-6vCOsR6vt"
      },
      "source": [
        "# **Linear Discriminant Analysis**"
      ]
    },
    {
      "cell_type": "code",
      "metadata": {
        "colab": {
          "base_uri": "https://localhost:8080/",
          "height": 202
        },
        "id": "njOLor7zStxA",
        "outputId": "a13cb0d8-2f88-4745-91d6-9b632a637800"
      },
      "source": [
        "#Load the dataset\n",
        "clean_df.head()"
      ],
      "execution_count": 67,
      "outputs": [
        {
          "output_type": "execute_result",
          "data": {
            "text/html": [
              "<div>\n",
              "<style scoped>\n",
              "    .dataframe tbody tr th:only-of-type {\n",
              "        vertical-align: middle;\n",
              "    }\n",
              "\n",
              "    .dataframe tbody tr th {\n",
              "        vertical-align: top;\n",
              "    }\n",
              "\n",
              "    .dataframe thead th {\n",
              "        text-align: right;\n",
              "    }\n",
              "</style>\n",
              "<table border=\"1\" class=\"dataframe\">\n",
              "  <thead>\n",
              "    <tr style=\"text-align: right;\">\n",
              "      <th></th>\n",
              "      <th>country</th>\n",
              "      <th>bank_account</th>\n",
              "      <th>location</th>\n",
              "      <th>phone</th>\n",
              "      <th>household_size</th>\n",
              "      <th>age</th>\n",
              "      <th>gender</th>\n",
              "      <th>relationship_with_head</th>\n",
              "      <th>marital_status</th>\n",
              "      <th>education_level</th>\n",
              "      <th>type_of_job</th>\n",
              "    </tr>\n",
              "  </thead>\n",
              "  <tbody>\n",
              "    <tr>\n",
              "      <th>0</th>\n",
              "      <td>0</td>\n",
              "      <td>Yes</td>\n",
              "      <td>0</td>\n",
              "      <td>1</td>\n",
              "      <td>3.0</td>\n",
              "      <td>24.0</td>\n",
              "      <td>0</td>\n",
              "      <td>5</td>\n",
              "      <td>2</td>\n",
              "      <td>4</td>\n",
              "      <td>9</td>\n",
              "    </tr>\n",
              "    <tr>\n",
              "      <th>1</th>\n",
              "      <td>0</td>\n",
              "      <td>No</td>\n",
              "      <td>0</td>\n",
              "      <td>0</td>\n",
              "      <td>5.0</td>\n",
              "      <td>70.0</td>\n",
              "      <td>0</td>\n",
              "      <td>1</td>\n",
              "      <td>4</td>\n",
              "      <td>1</td>\n",
              "      <td>4</td>\n",
              "    </tr>\n",
              "    <tr>\n",
              "      <th>2</th>\n",
              "      <td>0</td>\n",
              "      <td>Yes</td>\n",
              "      <td>1</td>\n",
              "      <td>1</td>\n",
              "      <td>5.0</td>\n",
              "      <td>26.0</td>\n",
              "      <td>1</td>\n",
              "      <td>3</td>\n",
              "      <td>3</td>\n",
              "      <td>6</td>\n",
              "      <td>9</td>\n",
              "    </tr>\n",
              "    <tr>\n",
              "      <th>3</th>\n",
              "      <td>0</td>\n",
              "      <td>No</td>\n",
              "      <td>0</td>\n",
              "      <td>1</td>\n",
              "      <td>5.0</td>\n",
              "      <td>34.0</td>\n",
              "      <td>0</td>\n",
              "      <td>1</td>\n",
              "      <td>2</td>\n",
              "      <td>3</td>\n",
              "      <td>3</td>\n",
              "    </tr>\n",
              "    <tr>\n",
              "      <th>4</th>\n",
              "      <td>0</td>\n",
              "      <td>No</td>\n",
              "      <td>1</td>\n",
              "      <td>0</td>\n",
              "      <td>8.0</td>\n",
              "      <td>26.0</td>\n",
              "      <td>1</td>\n",
              "      <td>0</td>\n",
              "      <td>3</td>\n",
              "      <td>3</td>\n",
              "      <td>5</td>\n",
              "    </tr>\n",
              "  </tbody>\n",
              "</table>\n",
              "</div>"
            ],
            "text/plain": [
              "   country bank_account  location  ...  marital_status  education_level  type_of_job\n",
              "0        0          Yes         0  ...               2                4            9\n",
              "1        0           No         0  ...               4                1            4\n",
              "2        0          Yes         1  ...               3                6            9\n",
              "3        0           No         0  ...               2                3            3\n",
              "4        0           No         1  ...               3                3            5\n",
              "\n",
              "[5 rows x 11 columns]"
            ]
          },
          "metadata": {},
          "execution_count": 67
        }
      ]
    },
    {
      "cell_type": "code",
      "metadata": {
        "id": "1um36_Z4SFUB"
      },
      "source": [
        "#Once dataset is loaded into a pandas data frame object, the first step is to divide dataset \n",
        "# into features and corresponding labels and then divide the resultant dataset into training and test sets. \n",
        "# The following code divides data into labels and feature set. \n",
        "X = clean_df.drop('bank_account', 1)\n",
        "y = clean_df['bank_account']"
      ],
      "execution_count": 68,
      "outputs": []
    },
    {
      "cell_type": "code",
      "metadata": {
        "id": "hYgRICHdS_sJ"
      },
      "source": [
        "#The following code divides data into training and test sets\n",
        "#\n",
        "from sklearn.model_selection import train_test_split\n",
        "X_train, X_test, y_train, y_test = train_test_split(X, y, test_size=0.2, random_state=0)"
      ],
      "execution_count": 69,
      "outputs": []
    },
    {
      "cell_type": "code",
      "metadata": {
        "id": "3uv95ijaTLuW"
      },
      "source": [
        "#Feature scaling\n",
        "# We now need to perform feature scaling. We execute the following code to do so:\n",
        "# \n",
        "from sklearn.preprocessing import StandardScaler\n",
        "sc = StandardScaler()\n",
        "X_train = sc.fit_transform(X_train)\n",
        "X_test = sc.transform(X_test)"
      ],
      "execution_count": 70,
      "outputs": []
    },
    {
      "cell_type": "code",
      "metadata": {
        "id": "j0b_dNF3TUYL"
      },
      "source": [
        "#Peforming LDA\n",
        "# It requires only four lines of code to perform LDA with Scikit-Learn. \n",
        "# The LinearDiscriminantAnalysis class of the sklearn.discriminant_analysis \n",
        "# library can be used to Perform LDA in Python. \n",
        "# Let's take a look at the following code\n",
        "#\n",
        "\n",
        "from sklearn.discriminant_analysis import LinearDiscriminantAnalysis as LDA\n",
        "lda = LDA(n_components=1)\n",
        "X_train = lda.fit_transform(X_train, y_train)\n",
        "X_test = lda.transform(X_test)"
      ],
      "execution_count": 71,
      "outputs": []
    },
    {
      "cell_type": "code",
      "metadata": {
        "colab": {
          "base_uri": "https://localhost:8080/"
        },
        "id": "c9FbrHfxThki",
        "outputId": "3406e40a-0158-4987-af7d-d0e0ea4f1dd4"
      },
      "source": [
        "#Training and Making Predictions\n",
        "# We will use the random forest classifier to evaluate the performance of a PCA-reduced algorithms as shown\n",
        "# \n",
        "\n",
        "from sklearn.ensemble import RandomForestClassifier\n",
        "\n",
        "classifier = RandomForestClassifier(max_depth=2, random_state=0)\n",
        "classifier.fit(X_train, y_train)\n",
        "y_pred = classifier.predict(X_test)\n",
        "y_pred"
      ],
      "execution_count": 73,
      "outputs": [
        {
          "output_type": "execute_result",
          "data": {
            "text/plain": [
              "array(['No', 'No', 'No', ..., 'Yes', 'No', 'No'], dtype=object)"
            ]
          },
          "metadata": {},
          "execution_count": 73
        }
      ]
    },
    {
      "cell_type": "code",
      "metadata": {
        "colab": {
          "base_uri": "https://localhost:8080/"
        },
        "id": "qXRbB0x2T3cC",
        "outputId": "da59eaa0-121a-43c3-8d3f-f66852a62b4b"
      },
      "source": [
        "#Evaluating the Performance\n",
        "# As always, the last step is to evaluate performance of the algorithm \n",
        "# with the help of a confusion matrix and find the accuracy of the prediction.\n",
        "# \n",
        "\n",
        "from sklearn.metrics import confusion_matrix\n",
        "from sklearn.metrics import accuracy_score\n",
        "\n",
        "cm = confusion_matrix(y_test, y_pred)\n",
        "print(cm)\n",
        "print('Accuracy' + str(accuracy_score(y_test, y_pred)))"
      ],
      "execution_count": 74,
      "outputs": [
        {
          "output_type": "stream",
          "name": "stdout",
          "text": [
            "[[3759  119]\n",
            " [ 474  188]]\n",
            "Accuracy0.8693832599118942\n"
          ]
        }
      ]
    },
    {
      "cell_type": "markdown",
      "metadata": {
        "id": "-OI6lgpiUBHq"
      },
      "source": [
        "# **Challenging the solutions**\n",
        "\n",
        "There is a room for improvement since both PCA and LDA are below 100%"
      ]
    },
    {
      "cell_type": "markdown",
      "metadata": {
        "id": "vO_jrVECU_8V"
      },
      "source": [
        "**Did we answer our question**\n",
        "\n",
        "Yes. With all the factors we had on our data, we can predict individuals likely to open a bank account in Kenya, Uganda, Tanzania and Rwanda.\n",
        "\n",
        "**In my analysis,** \n",
        "\n",
        "We had the right data.\n",
        "\n",
        "We did not need any other data to answer our question.\n",
        "\n",
        "We had the right question."
      ]
    }
  ]
}